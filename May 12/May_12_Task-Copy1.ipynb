{
 "cells": [
  {
   "cell_type": "markdown",
   "metadata": {},
   "source": [
    "# Using For Loop extracting R,G,B color values of an image"
   ]
  },
  {
   "cell_type": "code",
   "execution_count": 14,
   "metadata": {},
   "outputs": [],
   "source": [
    "import cv2\n",
    "import numpy as np"
   ]
  },
  {
   "cell_type": "code",
   "execution_count": 15,
   "metadata": {},
   "outputs": [],
   "source": [
    "x=cv2.VideoCapture(0)"
   ]
  },
  {
   "cell_type": "code",
   "execution_count": 16,
   "metadata": {},
   "outputs": [],
   "source": [
    "ret,image=x.read()"
   ]
  },
  {
   "cell_type": "code",
   "execution_count": 17,
   "metadata": {},
   "outputs": [],
   "source": [
    "x.release()"
   ]
  },
  {
   "cell_type": "code",
   "execution_count": 5,
   "metadata": {
    "scrolled": true
   },
   "outputs": [
    {
     "data": {
      "text/plain": [
       "array([[[22, 19, 15],\n",
       "        [23, 18, 15],\n",
       "        [23, 20, 12],\n",
       "        ...,\n",
       "        [46, 27, 22],\n",
       "        [48, 29, 22],\n",
       "        [48, 29, 22]],\n",
       "\n",
       "       [[23, 19, 14],\n",
       "        [23, 19, 14],\n",
       "        [26, 21, 12],\n",
       "        ...,\n",
       "        [44, 28, 22],\n",
       "        [45, 29, 23],\n",
       "        [45, 29, 23]],\n",
       "\n",
       "       [[29, 19, 12],\n",
       "        [30, 20, 13],\n",
       "        [30, 21, 12],\n",
       "        ...,\n",
       "        [39, 28, 24],\n",
       "        [41, 29, 25],\n",
       "        [41, 29, 25]],\n",
       "\n",
       "       ...,\n",
       "\n",
       "       [[84, 97, 59],\n",
       "        [84, 97, 59],\n",
       "        [83, 95, 59],\n",
       "        ...,\n",
       "        [46, 39, 36],\n",
       "        [46, 39, 36],\n",
       "        [46, 39, 36]],\n",
       "\n",
       "       [[84, 94, 64],\n",
       "        [84, 94, 64],\n",
       "        [83, 93, 63],\n",
       "        ...,\n",
       "        [46, 38, 38],\n",
       "        [45, 37, 37],\n",
       "        [45, 37, 37]],\n",
       "\n",
       "       [[84, 93, 67],\n",
       "        [84, 93, 67],\n",
       "        [83, 92, 66],\n",
       "        ...,\n",
       "        [45, 37, 37],\n",
       "        [45, 37, 37],\n",
       "        [45, 37, 37]]], dtype=uint8)"
      ]
     },
     "execution_count": 5,
     "metadata": {},
     "output_type": "execute_result"
    }
   ],
   "source": [
    "image"
   ]
  },
  {
   "cell_type": "markdown",
   "metadata": {},
   "source": [
    "### Image is a numpy array containing B,G,R values"
   ]
  },
  {
   "cell_type": "code",
   "execution_count": 18,
   "metadata": {},
   "outputs": [],
   "source": [
    "image1=image"
   ]
  },
  {
   "cell_type": "code",
   "execution_count": 19,
   "metadata": {},
   "outputs": [],
   "source": [
    "for i in image1:\n",
    "    for j in i:\n",
    "        j[0]=0\n",
    "        j[1]=0    "
   ]
  },
  {
   "cell_type": "code",
   "execution_count": 20,
   "metadata": {},
   "outputs": [],
   "source": [
    "cv2.imshow('red_image',image1)\n",
    "cv2.waitKey()\n",
    "cv2.destroyAllWindows()"
   ]
  },
  {
   "cell_type": "code",
   "execution_count": 21,
   "metadata": {},
   "outputs": [
    {
     "data": {
      "text/plain": [
       "array([[[ 0,  0, 18],\n",
       "        [ 0,  0, 18],\n",
       "        [ 0,  0, 18],\n",
       "        ...,\n",
       "        [ 0,  0, 22],\n",
       "        [ 0,  0, 24],\n",
       "        [ 0,  0, 24]],\n",
       "\n",
       "       [[ 0,  0, 18],\n",
       "        [ 0,  0, 18],\n",
       "        [ 0,  0, 18],\n",
       "        ...,\n",
       "        [ 0,  0, 22],\n",
       "        [ 0,  0, 24],\n",
       "        [ 0,  0, 24]],\n",
       "\n",
       "       [[ 0,  0, 17],\n",
       "        [ 0,  0, 17],\n",
       "        [ 0,  0, 17],\n",
       "        ...,\n",
       "        [ 0,  0, 22],\n",
       "        [ 0,  0, 24],\n",
       "        [ 0,  0, 24]],\n",
       "\n",
       "       ...,\n",
       "\n",
       "       [[ 0,  0, 87],\n",
       "        [ 0,  0, 90],\n",
       "        [ 0,  0, 95],\n",
       "        ...,\n",
       "        [ 0,  0, 37],\n",
       "        [ 0,  0, 37],\n",
       "        [ 0,  0, 36]],\n",
       "\n",
       "       [[ 0,  0, 90],\n",
       "        [ 0,  0, 92],\n",
       "        [ 0,  0, 98],\n",
       "        ...,\n",
       "        [ 0,  0, 38],\n",
       "        [ 0,  0, 38],\n",
       "        [ 0,  0, 37]],\n",
       "\n",
       "       [[ 0,  0, 92],\n",
       "        [ 0,  0, 94],\n",
       "        [ 0,  0, 99],\n",
       "        ...,\n",
       "        [ 0,  0, 38],\n",
       "        [ 0,  0, 38],\n",
       "        [ 0,  0, 37]]], dtype=uint8)"
      ]
     },
     "execution_count": 21,
     "metadata": {},
     "output_type": "execute_result"
    }
   ],
   "source": [
    "image"
   ]
  },
  {
   "cell_type": "markdown",
   "metadata": {},
   "source": [
    "### Extracting blue colour similarly"
   ]
  },
  {
   "cell_type": "code",
   "execution_count": 10,
   "metadata": {},
   "outputs": [],
   "source": [
    "image2=image"
   ]
  },
  {
   "cell_type": "code",
   "execution_count": 11,
   "metadata": {},
   "outputs": [],
   "source": [
    "for i in image2:\n",
    "    for j in i:\n",
    "        j[1]=0\n",
    "        j[2]=0    "
   ]
  },
  {
   "cell_type": "code",
   "execution_count": 12,
   "metadata": {},
   "outputs": [],
   "source": [
    "cv2.imshow('blue_image',image2)\n",
    "cv2.waitKey()\n",
    "cv2.destroyAllWindows()"
   ]
  },
  {
   "cell_type": "code",
   "execution_count": 13,
   "metadata": {},
   "outputs": [
    {
     "data": {
      "text/plain": [
       "array([[[0, 0, 0],\n",
       "        [0, 0, 0],\n",
       "        [0, 0, 0],\n",
       "        ...,\n",
       "        [0, 0, 0],\n",
       "        [0, 0, 0],\n",
       "        [0, 0, 0]],\n",
       "\n",
       "       [[0, 0, 0],\n",
       "        [0, 0, 0],\n",
       "        [0, 0, 0],\n",
       "        ...,\n",
       "        [0, 0, 0],\n",
       "        [0, 0, 0],\n",
       "        [0, 0, 0]],\n",
       "\n",
       "       [[0, 0, 0],\n",
       "        [0, 0, 0],\n",
       "        [0, 0, 0],\n",
       "        ...,\n",
       "        [0, 0, 0],\n",
       "        [0, 0, 0],\n",
       "        [0, 0, 0]],\n",
       "\n",
       "       ...,\n",
       "\n",
       "       [[0, 0, 0],\n",
       "        [0, 0, 0],\n",
       "        [0, 0, 0],\n",
       "        ...,\n",
       "        [0, 0, 0],\n",
       "        [0, 0, 0],\n",
       "        [0, 0, 0]],\n",
       "\n",
       "       [[0, 0, 0],\n",
       "        [0, 0, 0],\n",
       "        [0, 0, 0],\n",
       "        ...,\n",
       "        [0, 0, 0],\n",
       "        [0, 0, 0],\n",
       "        [0, 0, 0]],\n",
       "\n",
       "       [[0, 0, 0],\n",
       "        [0, 0, 0],\n",
       "        [0, 0, 0],\n",
       "        ...,\n",
       "        [0, 0, 0],\n",
       "        [0, 0, 0],\n",
       "        [0, 0, 0]]], dtype=uint8)"
      ]
     },
     "execution_count": 13,
     "metadata": {},
     "output_type": "execute_result"
    }
   ],
   "source": [
    "image2"
   ]
  },
  {
   "cell_type": "markdown",
   "metadata": {},
   "source": [
    "### Extracting green colour similarly"
   ]
  },
  {
   "cell_type": "code",
   "execution_count": null,
   "metadata": {},
   "outputs": [],
   "source": [
    "image3=np.array(image)"
   ]
  },
  {
   "cell_type": "code",
   "execution_count": null,
   "metadata": {},
   "outputs": [],
   "source": [
    "for i in image3:\n",
    "    for j in i:\n",
    "        j[0]=0\n",
    "        j[2]=0    "
   ]
  },
  {
   "cell_type": "code",
   "execution_count": null,
   "metadata": {},
   "outputs": [],
   "source": [
    "cv2.imshow('green_image',image3)\n",
    "cv2.waitKey()\n",
    "cv2.destroyAllWindows()"
   ]
  },
  {
   "cell_type": "markdown",
   "metadata": {},
   "source": [
    "# Using Split function and zeros to extract R,G,B color values of an image"
   ]
  },
  {
   "cell_type": "code",
   "execution_count": null,
   "metadata": {},
   "outputs": [],
   "source": [
    "import cv2\n",
    "import numpy as np"
   ]
  },
  {
   "cell_type": "code",
   "execution_count": null,
   "metadata": {},
   "outputs": [],
   "source": [
    "a1=np.zeros([480,640],dtype=\"uint8\")"
   ]
  },
  {
   "cell_type": "code",
   "execution_count": null,
   "metadata": {},
   "outputs": [],
   "source": [
    "x=cv2.VideoCapture(0)"
   ]
  },
  {
   "cell_type": "code",
   "execution_count": null,
   "metadata": {},
   "outputs": [],
   "source": [
    "ret,image=x.read()"
   ]
  },
  {
   "cell_type": "code",
   "execution_count": null,
   "metadata": {},
   "outputs": [],
   "source": [
    "x.release()"
   ]
  },
  {
   "cell_type": "markdown",
   "metadata": {},
   "source": [
    "### Getting Blue Color Values"
   ]
  },
  {
   "cell_type": "code",
   "execution_count": null,
   "metadata": {},
   "outputs": [],
   "source": [
    "B,G,R=cv2.split(image)\n",
    "B_image=cv2.merge([B,a1,a1])"
   ]
  },
  {
   "cell_type": "code",
   "execution_count": null,
   "metadata": {},
   "outputs": [],
   "source": [
    "cv2.imshow('image',B_image)\n",
    "cv2.waitKey()\n",
    "cv2.destroyAllWindows()"
   ]
  },
  {
   "cell_type": "markdown",
   "metadata": {},
   "source": [
    "### Getting Green Color Values"
   ]
  },
  {
   "cell_type": "code",
   "execution_count": null,
   "metadata": {},
   "outputs": [],
   "source": [
    "B,G,R=cv2.split(image)\n",
    "G_image=cv2.merge([a1,G,a1])"
   ]
  },
  {
   "cell_type": "code",
   "execution_count": null,
   "metadata": {},
   "outputs": [],
   "source": [
    "cv2.imshow('image',G_image)\n",
    "cv2.waitKey()\n",
    "cv2.destroyAllWindows()"
   ]
  },
  {
   "cell_type": "markdown",
   "metadata": {},
   "source": [
    "### Getting Red Color Values"
   ]
  },
  {
   "cell_type": "code",
   "execution_count": null,
   "metadata": {},
   "outputs": [],
   "source": [
    "B,G,R=cv2.split(image)\n",
    "R_image=cv2.merge([a1,a1,R])"
   ]
  },
  {
   "cell_type": "code",
   "execution_count": null,
   "metadata": {},
   "outputs": [],
   "source": [
    "cv2.imshow('image',R_image)\n",
    "cv2.waitKey()\n",
    "cv2.destroyAllWindows()"
   ]
  },
  {
   "cell_type": "markdown",
   "metadata": {},
   "source": [
    "# Converting Color Image to greyscale"
   ]
  },
  {
   "cell_type": "code",
   "execution_count": null,
   "metadata": {},
   "outputs": [],
   "source": [
    "BW_image=cv2.cvtColor(image,cv2.COLOR_BGR2GRAY)"
   ]
  },
  {
   "cell_type": "code",
   "execution_count": null,
   "metadata": {},
   "outputs": [],
   "source": [
    "cv2.imshow('image',BW_image)\n",
    "cv2.waitKey()\n",
    "cv2.destroyAllWindows()"
   ]
  }
 ],
 "metadata": {
  "kernelspec": {
   "display_name": "Python 3",
   "language": "python",
   "name": "python3"
  },
  "language_info": {
   "codemirror_mode": {
    "name": "ipython",
    "version": 3
   },
   "file_extension": ".py",
   "mimetype": "text/x-python",
   "name": "python",
   "nbconvert_exporter": "python",
   "pygments_lexer": "ipython3",
   "version": "3.6.6"
  }
 },
 "nbformat": 4,
 "nbformat_minor": 2
}
